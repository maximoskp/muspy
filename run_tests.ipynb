{
 "cells": [
  {
   "cell_type": "code",
   "execution_count": 1,
   "metadata": {},
   "outputs": [],
   "source": [
    "from tests import test_musicxml"
   ]
  },
  {
   "cell_type": "code",
   "execution_count": 2,
   "metadata": {},
   "outputs": [],
   "source": [
    "p = test_musicxml.test_chord_symbols()"
   ]
  },
  {
   "cell_type": "code",
   "execution_count": 3,
   "metadata": {},
   "outputs": [
    {
     "name": "stdout",
     "output_type": "stream",
     "text": [
      "1\n"
     ]
    }
   ],
   "source": [
    "print(len(p.tracks))\n",
    "t0 = p.tracks[0]"
   ]
  },
  {
   "cell_type": "code",
   "execution_count": 5,
   "metadata": {},
   "outputs": [
    {
     "name": "stdout",
     "output_type": "stream",
     "text": [
      "Track(program=1, is_drum=False, name='MusicXML Part', notes=[Note(time=0, pitch=60, duration=2, velocity=64, pitch_str='C4'), Note(time=2, pitch=60, duration=2, velocity=64, pitch_str='C4'), Note(time=4, pitch=60, duration=2, velocity=64, pitch_str='C4'), ...], lyrics=[Lyric(time=0, lyric='major'), Lyric(time=2, lyric='minor'), Lyric(time=4, lyric='augmented'), ...])\n",
      "[Note(time=0, pitch=60, duration=2, velocity=64, pitch_str='C4'), Note(time=2, pitch=60, duration=2, velocity=64, pitch_str='C4'), Note(time=4, pitch=60, duration=2, velocity=64, pitch_str='C4'), Note(time=6, pitch=60, duration=2, velocity=64, pitch_str='C4'), Note(time=8, pitch=60, duration=2, velocity=64, pitch_str='C4'), Note(time=10, pitch=60, duration=2, velocity=64, pitch_str='C4'), Note(time=12, pitch=60, duration=2, velocity=64, pitch_str='C4'), Note(time=14, pitch=60, duration=2, velocity=64, pitch_str='C4'), Note(time=16, pitch=60, duration=2, velocity=64, pitch_str='C4'), Note(time=18, pitch=60, duration=2, velocity=64, pitch_str='C4'), Note(time=20, pitch=60, duration=2, velocity=64, pitch_str='C4'), Note(time=22, pitch=60, duration=2, velocity=64, pitch_str='C4'), Note(time=24, pitch=60, duration=2, velocity=64, pitch_str='C4'), Note(time=26, pitch=60, duration=2, velocity=64, pitch_str='C4'), Note(time=28, pitch=60, duration=2, velocity=64, pitch_str='C4'), Note(time=30, pitch=60, duration=2, velocity=64, pitch_str='C4'), Note(time=32, pitch=60, duration=2, velocity=64, pitch_str='C4'), Note(time=34, pitch=60, duration=2, velocity=64, pitch_str='C4'), Note(time=36, pitch=60, duration=2, velocity=64, pitch_str='C4'), Note(time=38, pitch=60, duration=2, velocity=64, pitch_str='C4'), Note(time=40, pitch=60, duration=2, velocity=64, pitch_str='C4'), Note(time=42, pitch=60, duration=2, velocity=64, pitch_str='C4'), Note(time=44, pitch=60, duration=2, velocity=64, pitch_str='C4'), Note(time=46, pitch=60, duration=2, velocity=64, pitch_str='C4'), Note(time=48, pitch=60, duration=2, velocity=64, pitch_str='C4'), Note(time=50, pitch=60, duration=2, velocity=64, pitch_str='C4'), Note(time=52, pitch=60, duration=2, velocity=64, pitch_str='C4'), Note(time=54, pitch=60, duration=2, velocity=64, pitch_str='C4'), Note(time=56, pitch=60, duration=2, velocity=64, pitch_str='C4'), Note(time=58, pitch=60, duration=2, velocity=64, pitch_str='C4'), Note(time=60, pitch=60, duration=2, velocity=64, pitch_str='C4'), Note(time=62, pitch=60, duration=2, velocity=64, pitch_str='C4'), Note(time=64, pitch=60, duration=4, velocity=64, pitch_str='C4'), Note(time=68, pitch=60, duration=1, velocity=64, pitch_str='C4'), Note(time=69, pitch=60, duration=1, velocity=64, pitch_str='C4'), Note(time=72, pitch=60, duration=2, velocity=64, pitch_str='C4'), Note(time=74, pitch=60, duration=2, velocity=64, pitch_str='C4'), Note(time=76, pitch=69, duration=2, velocity=64, pitch_str='A4'), Note(time=78, pitch=69, duration=2, velocity=64, pitch_str='A4'), Note(time=80, pitch=69, duration=2, velocity=64, pitch_str='A4'), Note(time=82, pitch=69, duration=2, velocity=64, pitch_str='A4'), Note(time=84, pitch=69, duration=2, velocity=64, pitch_str='A4'), Note(time=86, pitch=69, duration=2, velocity=64, pitch_str='A4'), Note(time=88, pitch=69, duration=2, velocity=64, pitch_str='A4'), Note(time=90, pitch=69, duration=2, velocity=64, pitch_str='A4')]\n",
      "[]\n"
     ]
    }
   ],
   "source": [
    "print(t0)\n",
    "print(t0.notes)\n",
    "print(t0.harmony)"
   ]
  }
 ],
 "metadata": {
  "kernelspec": {
   "display_name": "muspy",
   "language": "python",
   "name": "python3"
  },
  "language_info": {
   "codemirror_mode": {
    "name": "ipython",
    "version": 3
   },
   "file_extension": ".py",
   "mimetype": "text/x-python",
   "name": "python",
   "nbconvert_exporter": "python",
   "pygments_lexer": "ipython3",
   "version": "3.6.15"
  }
 },
 "nbformat": 4,
 "nbformat_minor": 2
}
