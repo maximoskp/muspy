{
 "cells": [
  {
   "cell_type": "code",
   "execution_count": 1,
   "metadata": {},
   "outputs": [
    {
     "name": "stdout",
     "output_type": "stream",
     "text": [
      "MIR_QUALITIES:  {'maj': [1, 0, 0, 0, 1, 0, 0, 1, 0, 0, 0, 0], 'min': [1, 0, 0, 1, 0, 0, 0, 1, 0, 0, 0, 0], 'aug': [1, 0, 0, 0, 1, 0, 0, 0, 1, 0, 0, 0], 'dim': [1, 0, 0, 1, 0, 0, 1, 0, 0, 0, 0, 0], 'sus4': [1, 0, 0, 0, 0, 1, 0, 1, 0, 0, 0, 0], 'sus2': [1, 0, 1, 0, 0, 0, 0, 1, 0, 0, 0, 0], '7': [1, 0, 0, 0, 1, 0, 0, 1, 0, 0, 1, 0], 'maj7': [1, 0, 0, 0, 1, 0, 0, 1, 0, 0, 0, 1], 'min7': [1, 0, 0, 1, 0, 0, 0, 1, 0, 0, 1, 0], 'minmaj7': [1, 0, 0, 1, 0, 0, 0, 1, 0, 0, 0, 1], 'maj6': [1, 0, 0, 0, 1, 0, 0, 1, 0, 1, 0, 0], 'min6': [1, 0, 0, 1, 0, 0, 0, 1, 0, 1, 0, 0], 'dim7': [1, 0, 0, 1, 0, 0, 1, 0, 0, 1, 0, 0], 'hdim7': [1, 0, 0, 1, 0, 0, 1, 0, 0, 0, 1, 0], 'maj9': [1, 0, 0, 0, 1, 0, 0, 1, 0, 0, 0, 1], 'min9': [1, 0, 0, 1, 0, 0, 0, 1, 0, 0, 1, 0], '9': [1, 0, 0, 0, 1, 0, 0, 1, 0, 0, 1, 0], 'b9': [1, 0, 0, 0, 1, 0, 0, 1, 0, 0, 1, 0], '#9': [1, 0, 0, 0, 1, 0, 0, 1, 0, 0, 1, 0], 'min11': [1, 0, 0, 1, 0, 0, 0, 1, 0, 0, 1, 0], '11': [1, 0, 0, 0, 1, 0, 0, 1, 0, 0, 1, 0], '#11': [1, 0, 0, 0, 1, 0, 0, 1, 0, 0, 1, 0], 'maj13': [1, 0, 0, 0, 1, 0, 0, 1, 0, 0, 0, 1], 'min13': [1, 0, 0, 1, 0, 0, 0, 1, 0, 0, 1, 0], '13': [1, 0, 0, 0, 1, 0, 0, 1, 0, 0, 1, 0], 'b13': [1, 0, 0, 0, 1, 0, 0, 1, 0, 0, 1, 0], '1': [1, 0, 0, 0, 0, 0, 0, 0, 0, 0, 0, 0], '5': [1, 0, 0, 0, 0, 0, 0, 1, 0, 0, 0, 0], '': [0, 0, 0, 0, 0, 0, 0, 0, 0, 0, 0, 0]}\n",
      "EXTENDED_QUALITY_REDUX:  {'minmaj7': ('min', {'7'}), 'maj9': ('maj7', {'9'}), 'min9': ('min7', {'9'}), '9': ('7', {'9'}), 'b9': ('7', {'b9'}), '#9': ('7', {'#9'}), '11': ('7', {'11', '9'}), '#11': ('7', {'9', '#11'}), '13': ('7', {'11', '9', '13'}), 'b13': ('7', {'11', '9', 'b13'}), 'min11': ('min7', {'11', '9'}), 'maj13': ('maj7', {'11', '9', '13'}), 'min13': ('min7', {'11', '9', '13'})}\n"
     ]
    }
   ],
   "source": [
    "from tests import test_musicxml"
   ]
  },
  {
   "cell_type": "code",
   "execution_count": 2,
   "metadata": {},
   "outputs": [
    {
     "name": "stdout",
     "output_type": "stream",
     "text": [
      "{root: C, kind: , degrees: [], binary: array([1, 0, 0, 0, 1, 0, 0, 1, 0, 0, 0, 0])} (@time: 0)\n",
      "ChordSymbol(time=0, root='C', kind='', degrees=[], binary_xml=array([1, 0, 0, 0, 1, 0, 0, 1, 0, 0, 0, 0]), chord_symbol_xml='C', chord_symbol_mir_eval='C:maj', binary_mir_eval=array([1, 0, 0, 0, 1, 0, 0, 1, 0, 0, 0, 0]), root_pc=0)\n",
      "{root: C, kind: m, degrees: [], binary: array([1, 0, 0, 1, 0, 0, 0, 1, 0, 0, 0, 0])} (@time: 0)\n",
      "ChordSymbol(time=0, root='C', kind='m', degrees=[], binary_xml=array([1, 0, 0, 1, 0, 0, 0, 1, 0, 0, 0, 0]), chord_symbol_xml='Cm', chord_symbol_mir_eval='C:min', binary_mir_eval=array([1, 0, 0, 1, 0, 0, 0, 1, 0, 0, 0, 0]), root_pc=0)\n",
      "{root: C, kind: aug, degrees: [], binary: array([1, 0, 0, 0, 1, 0, 0, 0, 1, 0, 0, 0])} (@time: 0)\n",
      "ChordSymbol(time=0, root='C', kind='aug', degrees=[], binary_xml=array([1, 0, 0, 0, 1, 0, 0, 0, 1, 0, 0, 0]), chord_symbol_xml='Caug', chord_symbol_mir_eval='C:aug', binary_mir_eval=array([1, 0, 0, 0, 1, 0, 0, 0, 1, 0, 0, 0]), root_pc=0)\n",
      "{root: C, kind: dim, degrees: [], binary: array([1, 0, 0, 1, 0, 0, 1, 0, 0, 0, 0, 0])} (@time: 0)\n",
      "ChordSymbol(time=0, root='C', kind='dim', degrees=[], binary_xml=array([1, 0, 0, 1, 0, 0, 1, 0, 0, 0, 0, 0]), chord_symbol_xml='Cdim', chord_symbol_mir_eval='C:dim', binary_mir_eval=array([1, 0, 0, 1, 0, 0, 1, 0, 0, 0, 0, 0]), root_pc=0)\n",
      "{root: C, kind: 7, degrees: [], binary: array([1, 0, 0, 0, 1, 0, 0, 1, 0, 0, 1, 0])} (@time: 8)\n",
      "ChordSymbol(time=8, root='C', kind='7', degrees=[], binary_xml=array([1, 0, 0, 0, 1, 0, 0, 1, 0, 0, 1, 0]), chord_symbol_xml='C7', chord_symbol_mir_eval='C:7', binary_mir_eval=array([1, 0, 0, 0, 1, 0, 0, 1, 0, 0, 1, 0]), root_pc=0)\n",
      "{root: C, kind: maj7, degrees: [], binary: array([1, 0, 0, 0, 1, 0, 0, 1, 0, 0, 0, 1])} (@time: 8)\n",
      "ChordSymbol(time=8, root='C', kind='maj7', degrees=[], binary_xml=array([1, 0, 0, 0, 1, 0, 0, 1, 0, 0, 0, 1]), chord_symbol_xml='Cmaj7', chord_symbol_mir_eval='C:maj7', binary_mir_eval=array([1, 0, 0, 0, 1, 0, 0, 1, 0, 0, 0, 1]), root_pc=0)\n",
      "{root: C, kind: m7, degrees: [], binary: array([1, 0, 0, 1, 0, 0, 0, 1, 0, 0, 1, 0])} (@time: 8)\n",
      "ChordSymbol(time=8, root='C', kind='m7', degrees=[], binary_xml=array([1, 0, 0, 1, 0, 0, 0, 1, 0, 0, 1, 0]), chord_symbol_xml='Cm7', chord_symbol_mir_eval='C:min7', binary_mir_eval=array([1, 0, 0, 1, 0, 0, 0, 1, 0, 0, 1, 0]), root_pc=0)\n",
      "{root: C, kind: dim7, degrees: [], binary: array([1, 0, 0, 1, 0, 0, 1, 0, 0, 1, 0, 0])} (@time: 8)\n",
      "ChordSymbol(time=8, root='C', kind='dim7', degrees=[], binary_xml=array([1, 0, 0, 1, 0, 0, 1, 0, 0, 1, 0, 0]), chord_symbol_xml='Cdim7', chord_symbol_mir_eval='C:dim7', binary_mir_eval=array([1, 0, 0, 1, 0, 0, 1, 0, 0, 1, 0, 0]), root_pc=0)\n",
      "{root: C, kind: aug7, degrees: [], binary: array([1, 0, 0, 0, 1, 0, 0, 0, 1, 0, 1, 0])} (@time: 16)\n",
      "ChordSymbol(time=16, root='C', kind='aug7', degrees=[], binary_xml=array([1, 0, 0, 0, 1, 0, 0, 0, 1, 0, 1, 0]), chord_symbol_xml='Caug7', chord_symbol_mir_eval='C:aug', binary_mir_eval=array([1, 0, 0, 0, 1, 0, 0, 0, 1, 0, 0, 0]), root_pc=0)\n",
      "{root: C, kind: m7b5, degrees: [], binary: array([1, 0, 0, 1, 0, 0, 1, 0, 0, 0, 1, 0])} (@time: 16)\n",
      "ChordSymbol(time=16, root='C', kind='m7b5', degrees=[], binary_xml=array([1, 0, 0, 1, 0, 0, 1, 0, 0, 0, 1, 0]), chord_symbol_xml='Cm7b5', chord_symbol_mir_eval='C:hdim7', binary_mir_eval=array([1, 0, 0, 1, 0, 0, 1, 0, 0, 0, 1, 0]), root_pc=0)\n",
      "{root: C, kind: m(maj7), degrees: [], binary: array([1, 0, 0, 1, 0, 0, 0, 1, 0, 0, 0, 1])} (@time: 16)\n",
      "ChordSymbol(time=16, root='C', kind='m(maj7)', degrees=[], binary_xml=array([1, 0, 0, 1, 0, 0, 0, 1, 0, 0, 0, 1]), chord_symbol_xml='Cm(maj7)', chord_symbol_mir_eval='C:minmaj7', binary_mir_eval=array([1, 0, 0, 1, 0, 0, 0, 1, 0, 0, 0, 1]), root_pc=0)\n",
      "{root: C, kind: 6, degrees: [], binary: array([1, 0, 0, 0, 1, 0, 0, 1, 0, 1, 0, 0])} (@time: 16)\n",
      "ChordSymbol(time=16, root='C', kind='6', degrees=[], binary_xml=array([1, 0, 0, 0, 1, 0, 0, 1, 0, 1, 0, 0]), chord_symbol_xml='C6', chord_symbol_mir_eval='C:maj6', binary_mir_eval=array([1, 0, 0, 0, 1, 0, 0, 1, 0, 1, 0, 0]), root_pc=0)\n",
      "{root: C, kind: m6, degrees: [], binary: array([1, 0, 0, 1, 0, 0, 0, 1, 0, 1, 0, 0])} (@time: 24)\n",
      "ChordSymbol(time=24, root='C', kind='m6', degrees=[], binary_xml=array([1, 0, 0, 1, 0, 0, 0, 1, 0, 1, 0, 0]), chord_symbol_xml='Cm6', chord_symbol_mir_eval='C:min6', binary_mir_eval=array([1, 0, 0, 1, 0, 0, 0, 1, 0, 1, 0, 0]), root_pc=0)\n",
      "{root: C, kind: 9, degrees: [], binary: array([1, 0, 1, 0, 1, 0, 0, 1, 0, 0, 1, 0])} (@time: 24)\n",
      "ChordSymbol(time=24, root='C', kind='9', degrees=[], binary_xml=array([1, 0, 1, 0, 1, 0, 0, 1, 0, 0, 1, 0]), chord_symbol_xml='C9', chord_symbol_mir_eval='C:9', binary_mir_eval=array([1, 0, 1, 0, 1, 0, 0, 1, 0, 0, 1, 0]), root_pc=0)\n",
      "{root: C, kind: maj9, degrees: [], binary: array([1, 0, 1, 0, 1, 0, 0, 1, 0, 0, 0, 1])} (@time: 24)\n",
      "ChordSymbol(time=24, root='C', kind='maj9', degrees=[], binary_xml=array([1, 0, 1, 0, 1, 0, 0, 1, 0, 0, 0, 1]), chord_symbol_xml='Cmaj9', chord_symbol_mir_eval='C:maj9', binary_mir_eval=array([1, 0, 1, 0, 1, 0, 0, 1, 0, 0, 0, 1]), root_pc=0)\n",
      "{root: C, kind: m9, degrees: [], binary: array([1, 0, 1, 1, 0, 0, 0, 1, 0, 0, 1, 0])} (@time: 24)\n",
      "ChordSymbol(time=24, root='C', kind='m9', degrees=[], binary_xml=array([1, 0, 1, 1, 0, 0, 0, 1, 0, 0, 1, 0]), chord_symbol_xml='Cm9', chord_symbol_mir_eval='C:min9', binary_mir_eval=array([1, 0, 1, 1, 0, 0, 0, 1, 0, 0, 1, 0]), root_pc=0)\n",
      "{root: C, kind: 11, degrees: [], binary: array([1, 0, 1, 0, 1, 1, 0, 1, 0, 0, 1, 0])} (@time: 32)\n",
      "ChordSymbol(time=32, root='C', kind='11', degrees=[], binary_xml=array([1, 0, 1, 0, 1, 1, 0, 1, 0, 0, 1, 0]), chord_symbol_xml='C11', chord_symbol_mir_eval='C:11', binary_mir_eval=array([1, 0, 1, 0, 1, 1, 0, 1, 0, 0, 1, 0]), root_pc=0)\n",
      "{root: C, kind: maj11, degrees: [], binary: array([1, 0, 1, 0, 1, 1, 0, 1, 0, 0, 0, 1])} (@time: 32)\n",
      "ChordSymbol(time=32, root='C', kind='maj11', degrees=[], binary_xml=array([1, 0, 1, 0, 1, 1, 0, 1, 0, 0, 0, 1]), chord_symbol_xml='Cmaj11', chord_symbol_mir_eval='C:maj9', binary_mir_eval=array([1, 0, 1, 0, 1, 0, 0, 1, 0, 0, 0, 1]), root_pc=0)\n",
      "{root: C, kind: m11, degrees: [], binary: array([1, 0, 1, 1, 0, 1, 0, 1, 0, 0, 1, 0])} (@time: 32)\n",
      "ChordSymbol(time=32, root='C', kind='m11', degrees=[], binary_xml=array([1, 0, 1, 1, 0, 1, 0, 1, 0, 0, 1, 0]), chord_symbol_xml='Cm11', chord_symbol_mir_eval='C:min11', binary_mir_eval=array([1, 0, 1, 1, 0, 1, 0, 1, 0, 0, 1, 0]), root_pc=0)\n",
      "{root: C, kind: 13, degrees: [], binary: array([1, 0, 1, 0, 1, 1, 0, 1, 1, 0, 1, 0])} (@time: 32)\n",
      "ChordSymbol(time=32, root='C', kind='13', degrees=[], binary_xml=array([1, 0, 1, 0, 1, 1, 0, 1, 1, 0, 1, 0]), chord_symbol_xml='C13', chord_symbol_mir_eval='C:b13', binary_mir_eval=array([1, 0, 1, 0, 1, 1, 0, 1, 1, 0, 1, 0]), root_pc=0)\n",
      "{root: C, kind: maj13, degrees: [], binary: array([1, 0, 1, 0, 1, 1, 0, 1, 1, 0, 0, 1])} (@time: 40)\n",
      "ChordSymbol(time=40, root='C', kind='maj13', degrees=[], binary_xml=array([1, 0, 1, 0, 1, 1, 0, 1, 1, 0, 0, 1]), chord_symbol_xml='Cmaj13', chord_symbol_mir_eval='C:maj9', binary_mir_eval=array([1, 0, 1, 0, 1, 0, 0, 1, 0, 0, 0, 1]), root_pc=0)\n",
      "{root: C, kind: m13, degrees: [], binary: array([1, 0, 1, 1, 0, 1, 0, 1, 1, 0, 1, 0])} (@time: 40)\n",
      "ChordSymbol(time=40, root='C', kind='m13', degrees=[], binary_xml=array([1, 0, 1, 1, 0, 1, 0, 1, 1, 0, 1, 0]), chord_symbol_xml='Cm13', chord_symbol_mir_eval='C:min11', binary_mir_eval=array([1, 0, 1, 1, 0, 1, 0, 1, 0, 0, 1, 0]), root_pc=0)\n",
      "{root: C, kind: sus2, degrees: [], binary: array([1, 0, 1, 0, 0, 0, 0, 1, 0, 0, 0, 0])} (@time: 40)\n",
      "ChordSymbol(time=40, root='C', kind='sus2', degrees=[], binary_xml=array([1, 0, 1, 0, 0, 0, 0, 1, 0, 0, 0, 0]), chord_symbol_xml='Csus2', chord_symbol_mir_eval='C:sus2', binary_mir_eval=array([1, 0, 1, 0, 0, 0, 0, 1, 0, 0, 0, 0]), root_pc=0)\n",
      "{root: C, kind: sus, degrees: [], binary: array([1, 0, 0, 0, 0, 1, 0, 1, 0, 0, 0, 0])} (@time: 40)\n",
      "ChordSymbol(time=40, root='C', kind='sus', degrees=[], binary_xml=array([1, 0, 0, 0, 0, 1, 0, 1, 0, 0, 0, 0]), chord_symbol_xml='Csus', chord_symbol_mir_eval='C:sus4', binary_mir_eval=array([1, 0, 0, 0, 0, 1, 0, 1, 0, 0, 0, 0]), root_pc=0)\n",
      "{root: C, kind: , degrees: [], binary: array([1, 0, 0, 0, 1, 0, 0, 1, 0, 0, 0, 0])} (@time: 48)\n",
      "ChordSymbol(time=48, root='C', kind='', degrees=[], binary_xml=array([1, 0, 0, 0, 1, 0, 0, 1, 0, 0, 0, 0]), chord_symbol_xml='C', chord_symbol_mir_eval='C:maj', binary_mir_eval=array([1, 0, 0, 0, 1, 0, 0, 1, 0, 0, 0, 0]), root_pc=0)\n",
      "{root: C, kind: 7, degrees: [], binary: array([1, 0, 0, 0, 1, 0, 0, 1, 0, 0, 1, 0])} (@time: 48)\n",
      "ChordSymbol(time=48, root='C', kind='7', degrees=[], binary_xml=array([1, 0, 0, 0, 1, 0, 0, 1, 0, 0, 1, 0]), chord_symbol_xml='C7', chord_symbol_mir_eval='C:7', binary_mir_eval=array([1, 0, 0, 0, 1, 0, 0, 1, 0, 0, 1, 0]), root_pc=0)\n",
      "{root: C, kind: 7, degrees: [], binary: array([1, 0, 0, 0, 1, 0, 0, 1, 0, 0, 1, 0])} (@time: 48)\n",
      "ChordSymbol(time=48, root='C', kind='7', degrees=[], binary_xml=array([1, 0, 0, 0, 1, 0, 0, 1, 0, 0, 1, 0]), chord_symbol_xml='C7', chord_symbol_mir_eval='C:7', binary_mir_eval=array([1, 0, 0, 0, 1, 0, 0, 1, 0, 0, 1, 0]), root_pc=0)\n",
      "{root: C, kind: 7, degrees: [], binary: array([1, 0, 0, 0, 1, 0, 0, 1, 0, 0, 1, 0])} (@time: 48)\n",
      "ChordSymbol(time=48, root='C', kind='7', degrees=[], binary_xml=array([1, 0, 0, 0, 1, 0, 0, 1, 0, 0, 1, 0]), chord_symbol_xml='C7', chord_symbol_mir_eval='C:7', binary_mir_eval=array([1, 0, 0, 0, 1, 0, 0, 1, 0, 0, 1, 0]), root_pc=0)\n",
      "{root: C, kind: ped, degrees: [], binary: array([1, 0, 0, 0, 0, 0, 0, 0, 0, 0, 0, 0])} (@time: 56)\n",
      "ChordSymbol(time=56, root='C', kind='ped', degrees=[], binary_xml=array([1, 0, 0, 0, 0, 0, 0, 0, 0, 0, 0, 0]), chord_symbol_xml='Cped', chord_symbol_mir_eval='C:1', binary_mir_eval=array([1, 0, 0, 0, 0, 0, 0, 0, 0, 0, 0, 0]), root_pc=0)\n",
      "{root: C, kind: 5, degrees: [], binary: array([1, 0, 0, 0, 0, 0, 0, 1, 0, 0, 0, 0])} (@time: 56)\n",
      "ChordSymbol(time=56, root='C', kind='5', degrees=[], binary_xml=array([1, 0, 0, 0, 0, 0, 0, 1, 0, 0, 0, 0]), chord_symbol_xml='C5', chord_symbol_mir_eval='C:5', binary_mir_eval=array([1, 0, 0, 0, 0, 0, 0, 1, 0, 0, 0, 0]), root_pc=0)\n",
      "{root: C, kind: 9, degrees: [], binary: array([1, 0, 1, 0, 1, 0, 0, 1, 0, 0, 1, 0])} (@time: 56)\n",
      "ChordSymbol(time=56, root='C', kind='9', degrees=[], binary_xml=array([1, 0, 1, 0, 1, 0, 0, 1, 0, 0, 1, 0]), chord_symbol_xml='C9', chord_symbol_mir_eval='C:9', binary_mir_eval=array([1, 0, 1, 0, 1, 0, 0, 1, 0, 0, 1, 0]), root_pc=0)\n",
      "{root: C, kind: ped, degrees: [], binary: array([1, 0, 0, 0, 0, 0, 0, 0, 0, 0, 0, 0])} (@time: 56)\n",
      "ChordSymbol(time=56, root='C', kind='ped', degrees=[], binary_xml=array([1, 0, 0, 0, 0, 0, 0, 0, 0, 0, 0, 0]), chord_symbol_xml='Cped', chord_symbol_mir_eval='C:1', binary_mir_eval=array([1, 0, 0, 0, 0, 0, 0, 0, 0, 0, 0, 0]), root_pc=0)\n",
      "{root: F#, kind: , degrees: [], binary: array([1, 0, 0, 0, 1, 0, 0, 1, 0, 0, 0, 0])} (@time: 64)\n",
      "ChordSymbol(time=64, root='F#', kind='', degrees=[], binary_xml=array([1, 0, 0, 0, 1, 0, 0, 1, 0, 0, 0, 0]), chord_symbol_xml='F#', chord_symbol_mir_eval='F#:maj', binary_mir_eval=array([1, 0, 0, 0, 1, 0, 0, 1, 0, 0, 0, 0]), root_pc=6)\n",
      "{root: Fbb, kind: , degrees: [], binary: array([1, 0, 0, 0, 1, 0, 0, 1, 0, 0, 0, 0]), bass: C} } (@time: 64)\n",
      "ChordSymbol(time=64, root='Fbb', kind='', degrees=[], bass='C', binary_xml=array([1, 0, 0, 0, 1, 0, 0, 1, 0, 0, 0, 0]), chord_symbol_xml='FbbC', chord_symbol_mir_eval='Fbb:maj', binary_mir_eval=array([1, 0, 0, 0, 1, 0, 0, 1, 0, 0, 0, 0]), root_pc=3)\n",
      "{root: G#, kind: , degrees: [], binary: array([1, 0, 0, 0, 1, 0, 0, 1, 0, 0, 0, 0]), bass: D#} } (@time: 64)\n",
      "ChordSymbol(time=64, root='G#', kind='', degrees=[], bass='D#', binary_xml=array([1, 0, 0, 0, 1, 0, 0, 1, 0, 0, 0, 0]), chord_symbol_xml='G#D#', chord_symbol_mir_eval='G#:maj', binary_mir_eval=array([1, 0, 0, 0, 1, 0, 0, 1, 0, 0, 0, 0]), root_pc=8)\n",
      "{root: C, kind: , degrees: [], binary: array([1, 0, 0, 0, 1, 0, 0, 1, 0, 0, 0, 0])} (@time: 64)\n",
      "ChordSymbol(time=64, root='C', kind='', degrees=[], binary_xml=array([1, 0, 0, 0, 1, 0, 0, 1, 0, 0, 0, 0]), chord_symbol_xml='C', chord_symbol_mir_eval='C:maj', binary_mir_eval=array([1, 0, 0, 0, 1, 0, 0, 1, 0, 0, 0, 0]), root_pc=0)\n",
      "{root: C, kind: , degrees: [no3, b5], binary: array([1, 0, 0, 0, 0, 0, 0, 1, 0, 0, 0, 0])} (@time: 72)\n",
      "ChordSymbol(time=72, root='C', kind='', degrees=['no3', 'b5'], binary_xml=array([1, 0, 0, 0, 0, 0, 0, 1, 0, 0, 0, 0]), chord_symbol_xml='Cno3b5', chord_symbol_mir_eval='C:5', binary_mir_eval=array([1, 0, 0, 0, 0, 0, 0, 1, 0, 0, 0, 0]), root_pc=0)\n",
      "{root: C, kind: , degrees: [no1, b6], binary: array([1, 0, 0, 0, 1, 0, 0, 1, 0, 0, 0, 0])} (@time: 72)\n",
      "ChordSymbol(time=72, root='C', kind='', degrees=['no1', 'b6'], binary_xml=array([1, 0, 0, 0, 1, 0, 0, 1, 0, 0, 0, 0]), chord_symbol_xml='Cno1b6', chord_symbol_mir_eval='C:maj', binary_mir_eval=array([1, 0, 0, 0, 1, 0, 0, 1, 0, 0, 0, 0]), root_pc=0)\n",
      "{root: C, kind: , degrees: [], binary: array([1, 0, 0, 0, 1, 0, 0, 1, 0, 0, 0, 0])} (@time: 76)\n",
      "ChordSymbol(time=76, root='C', kind='', degrees=[], binary_xml=array([1, 0, 0, 0, 1, 0, 0, 1, 0, 0, 0, 0]), chord_symbol_xml='C', chord_symbol_mir_eval='C:maj', binary_mir_eval=array([1, 0, 0, 0, 1, 0, 0, 1, 0, 0, 0, 0]), root_pc=0)\n",
      "{root: C, kind: maj7, degrees: [#11], binary: array([1, 0, 0, 0, 1, 0, 0, 1, 0, 0, 0, 1])} (@time: 76)\n",
      "ChordSymbol(time=76, root='C', kind='maj7', degrees=['#11'], binary_xml=array([1, 0, 0, 0, 1, 0, 0, 1, 0, 0, 0, 1]), chord_symbol_xml='Cmaj7#11', chord_symbol_mir_eval='C:maj7', binary_mir_eval=array([1, 0, 0, 0, 1, 0, 0, 1, 0, 0, 0, 1]), root_pc=0)\n",
      "{root: B, kind: 7, degrees: [#5, #9], binary: array([1, 0, 0, 0, 1, 0, 0, 1, 0, 0, 1, 0])} (@time: 76)\n",
      "ChordSymbol(time=76, root='B', kind='7', degrees=['#5', '#9'], binary_xml=array([1, 0, 0, 0, 1, 0, 0, 1, 0, 0, 1, 0]), chord_symbol_xml='B7#5#9', chord_symbol_mir_eval='B:7', binary_mir_eval=array([1, 0, 0, 0, 1, 0, 0, 1, 0, 0, 1, 0]), root_pc=11)\n",
      "{root: Eb, kind: , degrees: [add2], binary: array([1, 0, 0, 0, 1, 0, 0, 1, 0, 0, 0, 0])} (@time: 76)\n",
      "ChordSymbol(time=76, root='Eb', kind='', degrees=['add2'], binary_xml=array([1, 0, 0, 0, 1, 0, 0, 1, 0, 0, 0, 0]), chord_symbol_xml='Ebadd2', chord_symbol_mir_eval='Eb:maj', binary_mir_eval=array([1, 0, 0, 0, 1, 0, 0, 1, 0, 0, 0, 0]), root_pc=3)\n",
      "{root: G, kind: m, degrees: [], binary: array([1, 0, 0, 1, 0, 0, 0, 1, 0, 0, 0, 0])} (@time: 84)\n",
      "ChordSymbol(time=84, root='G', kind='m', degrees=[], binary_xml=array([1, 0, 0, 1, 0, 0, 0, 1, 0, 0, 0, 0]), chord_symbol_xml='Gm', chord_symbol_mir_eval='G:min', binary_mir_eval=array([1, 0, 0, 1, 0, 0, 0, 1, 0, 0, 0, 0]), root_pc=7)\n",
      "{root: D#, kind: maj7, degrees: [], binary: array([1, 0, 0, 0, 1, 0, 0, 1, 0, 0, 0, 1])} (@time: 84)\n",
      "ChordSymbol(time=84, root='D#', kind='maj7', degrees=[], binary_xml=array([1, 0, 0, 0, 1, 0, 0, 1, 0, 0, 0, 1]), chord_symbol_xml='D#maj7', chord_symbol_mir_eval='D#:maj7', binary_mir_eval=array([1, 0, 0, 0, 1, 0, 0, 1, 0, 0, 0, 1]), root_pc=3)\n",
      "{root: A, kind: dim7, degrees: [], binary: array([1, 0, 0, 1, 0, 0, 1, 0, 0, 1, 0, 0])} (@time: 84)\n",
      "ChordSymbol(time=84, root='A', kind='dim7', degrees=[], binary_xml=array([1, 0, 0, 1, 0, 0, 1, 0, 0, 1, 0, 0]), chord_symbol_xml='Adim7', chord_symbol_mir_eval='A:dim7', binary_mir_eval=array([1, 0, 0, 1, 0, 0, 1, 0, 0, 1, 0, 0]), root_pc=9)\n",
      "{root: A, kind: aug, degrees: [], binary: array([1, 0, 0, 0, 1, 0, 0, 0, 1, 0, 0, 0])} (@time: 84)\n",
      "ChordSymbol(time=84, root='A', kind='aug', degrees=[], binary_xml=array([1, 0, 0, 0, 1, 0, 0, 0, 1, 0, 0, 0]), chord_symbol_xml='Aaug', chord_symbol_mir_eval='A:aug', binary_mir_eval=array([1, 0, 0, 0, 1, 0, 0, 0, 1, 0, 0, 0]), root_pc=9)\n"
     ]
    }
   ],
   "source": [
    "p = test_musicxml.test_chord_symbols()"
   ]
  },
  {
   "cell_type": "code",
   "execution_count": 3,
   "metadata": {},
   "outputs": [
    {
     "name": "stdout",
     "output_type": "stream",
     "text": [
      "1\n"
     ]
    }
   ],
   "source": [
    "print(len(p.tracks))\n",
    "t0 = p.tracks[0]"
   ]
  },
  {
   "cell_type": "code",
   "execution_count": 4,
   "metadata": {},
   "outputs": [
    {
     "name": "stdout",
     "output_type": "stream",
     "text": [
      "Track(program=1, is_drum=False, name='MusicXML Part', notes=[Note(time=0, pitch=60, duration=2, velocity=64, pitch_str='C4'), Note(time=2, pitch=60, duration=2, velocity=64, pitch_str='C4'), Note(time=4, pitch=60, duration=2, velocity=64, pitch_str='C4'), ...], lyrics=[Lyric(time=0, lyric='major'), Lyric(time=2, lyric='minor'), Lyric(time=4, lyric='augmented'), ...])\n",
      "[Note(time=0, pitch=60, duration=2, velocity=64, pitch_str='C4'), Note(time=2, pitch=60, duration=2, velocity=64, pitch_str='C4'), Note(time=4, pitch=60, duration=2, velocity=64, pitch_str='C4'), Note(time=6, pitch=60, duration=2, velocity=64, pitch_str='C4'), Note(time=8, pitch=60, duration=2, velocity=64, pitch_str='C4'), Note(time=10, pitch=60, duration=2, velocity=64, pitch_str='C4'), Note(time=12, pitch=60, duration=2, velocity=64, pitch_str='C4'), Note(time=14, pitch=60, duration=2, velocity=64, pitch_str='C4'), Note(time=16, pitch=60, duration=2, velocity=64, pitch_str='C4'), Note(time=18, pitch=60, duration=2, velocity=64, pitch_str='C4'), Note(time=20, pitch=60, duration=2, velocity=64, pitch_str='C4'), Note(time=22, pitch=60, duration=2, velocity=64, pitch_str='C4'), Note(time=24, pitch=60, duration=2, velocity=64, pitch_str='C4'), Note(time=26, pitch=60, duration=2, velocity=64, pitch_str='C4'), Note(time=28, pitch=60, duration=2, velocity=64, pitch_str='C4'), Note(time=30, pitch=60, duration=2, velocity=64, pitch_str='C4'), Note(time=32, pitch=60, duration=2, velocity=64, pitch_str='C4'), Note(time=34, pitch=60, duration=2, velocity=64, pitch_str='C4'), Note(time=36, pitch=60, duration=2, velocity=64, pitch_str='C4'), Note(time=38, pitch=60, duration=2, velocity=64, pitch_str='C4'), Note(time=40, pitch=60, duration=2, velocity=64, pitch_str='C4'), Note(time=42, pitch=60, duration=2, velocity=64, pitch_str='C4'), Note(time=44, pitch=60, duration=2, velocity=64, pitch_str='C4'), Note(time=46, pitch=60, duration=2, velocity=64, pitch_str='C4'), Note(time=48, pitch=60, duration=2, velocity=64, pitch_str='C4'), Note(time=50, pitch=60, duration=2, velocity=64, pitch_str='C4'), Note(time=52, pitch=60, duration=2, velocity=64, pitch_str='C4'), Note(time=54, pitch=60, duration=2, velocity=64, pitch_str='C4'), Note(time=56, pitch=60, duration=2, velocity=64, pitch_str='C4'), Note(time=58, pitch=60, duration=2, velocity=64, pitch_str='C4'), Note(time=60, pitch=60, duration=2, velocity=64, pitch_str='C4'), Note(time=62, pitch=60, duration=2, velocity=64, pitch_str='C4'), Note(time=64, pitch=60, duration=4, velocity=64, pitch_str='C4'), Note(time=68, pitch=60, duration=1, velocity=64, pitch_str='C4'), Note(time=69, pitch=60, duration=1, velocity=64, pitch_str='C4'), Note(time=72, pitch=60, duration=2, velocity=64, pitch_str='C4'), Note(time=74, pitch=60, duration=2, velocity=64, pitch_str='C4'), Note(time=76, pitch=69, duration=2, velocity=64, pitch_str='A4'), Note(time=78, pitch=69, duration=2, velocity=64, pitch_str='A4'), Note(time=80, pitch=69, duration=2, velocity=64, pitch_str='A4'), Note(time=82, pitch=69, duration=2, velocity=64, pitch_str='A4'), Note(time=84, pitch=69, duration=2, velocity=64, pitch_str='A4'), Note(time=86, pitch=69, duration=2, velocity=64, pitch_str='A4'), Note(time=88, pitch=69, duration=2, velocity=64, pitch_str='A4'), Note(time=90, pitch=69, duration=2, velocity=64, pitch_str='A4')]\n"
     ]
    }
   ],
   "source": [
    "print(t0)\n",
    "print(t0.notes)"
   ]
  }
 ],
 "metadata": {
  "kernelspec": {
   "display_name": "muspy",
   "language": "python",
   "name": "python3"
  },
  "language_info": {
   "codemirror_mode": {
    "name": "ipython",
    "version": 3
   },
   "file_extension": ".py",
   "mimetype": "text/x-python",
   "name": "python",
   "nbconvert_exporter": "python",
   "pygments_lexer": "ipython3",
   "version": "3.6.15"
  }
 },
 "nbformat": 4,
 "nbformat_minor": 2
}
